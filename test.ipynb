{
 "cells": [
  {
   "cell_type": "code",
   "execution_count": 11,
   "metadata": {},
   "outputs": [],
   "source": [
    "import findspark\n",
    "findspark.init(\"/opt/homebrew/opt/apache-spark/libexec/\")\n"
   ]
  },
  {
   "cell_type": "code",
   "execution_count": 12,
   "metadata": {},
   "outputs": [],
   "source": [
    "#pysparkに必要なライブラリを読み込む\n",
    "from pyspark import SparkConf\n",
    "from pyspark import SparkContext\n",
    "from pyspark.sql import SparkSession"
   ]
  },
  {
   "cell_type": "code",
   "execution_count": 13,
   "metadata": {},
   "outputs": [
    {
     "name": "stdout",
     "output_type": "stream",
     "text": [
      "+---------+---------+-----------+\n",
      "|namespace|tableName|isTemporary|\n",
      "+---------+---------+-----------+\n",
      "|  default|jinko_avg|      false|\n",
      "+---------+---------+-----------+\n",
      "\n"
     ]
    }
   ],
   "source": [
    "#pysparkに必要なライブラリを読み込む\n",
    "\n",
    "from pyspark import SparkConf\n",
    "from pyspark import SparkContext\n",
    "from pyspark.sql import SparkSession\n",
    "\n",
    "#spark sessionの作成\n",
    "# spark.ui.enabled trueとするとSparkのGUI画面を確認することができます\n",
    "# spark.eventLog.enabled true　とすると　GUIで実行ログを確認することができます\n",
    "# GUIなどの確認は最後のセクションで説明を行います。\n",
    "spark = SparkSession.builder \\\n",
    "    .appName(\"chapter1\") \\\n",
    "    .config(\"hive.exec.dynamic.partition\", \"true\") \\\n",
    "    .config(\"hive.exec.dynamic.partition.mode\", \"nonstrict\") \\\n",
    "    .config(\"spark.sql.session.timeZone\", \"JST\") \\\n",
    "    .config(\"spark.ui.enabled\",\"true\") \\\n",
    "    .config(\"spark.eventLog.enabled\",\"true\") \\\n",
    "    .enableHiveSupport() \\\n",
    "    .getOrCreate()\n",
    "\n",
    "spark.sql(\"show tables\").show() "
   ]
  },
  {
   "cell_type": "code",
   "execution_count": 14,
   "metadata": {},
   "outputs": [
    {
     "data": {
      "text/plain": [
       "982"
      ]
     },
     "execution_count": 14,
     "metadata": {},
     "output_type": "execute_result"
    }
   ],
   "source": [
    "df = spark.read.option(\"multiLine\",\"true\").option(\"encoding\",\"SJIS\").csv(\"/Users/isomasaki/pyspark_batch/dataset/jinko.csv\",header=True,sep=\",\",inferSchema=False)\n",
    "df.count()"
   ]
  },
  {
   "cell_type": "code",
   "execution_count": 15,
   "metadata": {},
   "outputs": [
    {
     "name": "stdout",
     "output_type": "stream",
     "text": [
      "+--------------+----------+----+----------+----------+----+------------+----------+----------+\n",
      "|都道府県コード|都道府県名|元号|和暦（年）|西暦（年）|注  |人口（総数）|人口（男）|人口（女）|\n",
      "+--------------+----------+----+----------+----------+----+------------+----------+----------+\n",
      "|00            |全国      |大正|9         |1920      |null|55963053    |28044185  |27918868  |\n",
      "|01            |北海道    |大正|9         |1920      |null|2359183     |1244322   |1114861   |\n",
      "|02            |青森県    |大正|9         |1920      |null|756454      |381293    |375161    |\n",
      "|03            |岩手県    |大正|9         |1920      |null|845540      |421069    |424471    |\n",
      "|04            |宮城県    |大正|9         |1920      |null|961768      |485309    |476459    |\n",
      "|05            |秋田県    |大正|9         |1920      |null|898537      |453682    |444855    |\n",
      "|06            |山形県    |大正|9         |1920      |null|968925      |478328    |490597    |\n",
      "|07            |福島県    |大正|9         |1920      |null|1362750     |673525    |689225    |\n",
      "|08            |茨城県    |大正|9         |1920      |null|1350400     |662128    |688272    |\n",
      "|09            |栃木県    |大正|9         |1920      |null|1046479     |514255    |532224    |\n",
      "|10            |群馬県    |大正|9         |1920      |null|1052610     |514106    |538504    |\n",
      "|11            |埼玉県    |大正|9         |1920      |null|1319533     |641161    |678372    |\n",
      "|12            |千葉県    |大正|9         |1920      |null|1336155     |656968    |679187    |\n",
      "|13            |東京都    |大正|9         |1920      |null|3699428     |1952989   |1746439   |\n",
      "|14            |神奈川県  |大正|9         |1920      |null|1323390     |689751    |633639    |\n",
      "|15            |新潟県    |大正|9         |1920      |null|1776474     |871532    |904942    |\n",
      "|16            |富山県    |大正|9         |1920      |null|724276      |354775    |369501    |\n",
      "|17            |石川県    |大正|9         |1920      |null|747360      |364375    |382985    |\n",
      "|18            |福井県    |大正|9         |1920      |null|599155      |293181    |305974    |\n",
      "|19            |山梨県    |大正|9         |1920      |null|583453      |290817    |292636    |\n",
      "+--------------+----------+----+----------+----------+----+------------+----------+----------+\n",
      "only showing top 20 rows\n",
      "\n"
     ]
    }
   ],
   "source": [
    "df.show(truncate=False)\n"
   ]
  },
  {
   "cell_type": "code",
   "execution_count": 16,
   "metadata": {},
   "outputs": [
    {
     "name": "stdout",
     "output_type": "stream",
     "text": [
      "+--------------+----------+-----+----------+----------+----+------------+----------+------------+\n",
      "|          code|    kenmei|gengo|    wareki|   seireki| chu|       sokei|jinko_male|jinko_female|\n",
      "+--------------+----------+-----+----------+----------+----+------------+----------+------------+\n",
      "|都道府県コード|都道府県名| 元号|和暦（年）|西暦（年）|  注|人口（総数）|人口（男）|  人口（女）|\n",
      "|            00|      全国| 大正|         9|      1920|null|    55963053|  28044185|    27918868|\n",
      "|            01|    北海道| 大正|         9|      1920|null|     2359183|   1244322|     1114861|\n",
      "|            02|    青森県| 大正|         9|      1920|null|      756454|    381293|      375161|\n",
      "|            03|    岩手県| 大正|         9|      1920|null|      845540|    421069|      424471|\n",
      "|            04|    宮城県| 大正|         9|      1920|null|      961768|    485309|      476459|\n",
      "|            05|    秋田県| 大正|         9|      1920|null|      898537|    453682|      444855|\n",
      "|            06|    山形県| 大正|         9|      1920|null|      968925|    478328|      490597|\n",
      "|            07|    福島県| 大正|         9|      1920|null|     1362750|    673525|      689225|\n",
      "|            08|    茨城県| 大正|         9|      1920|null|     1350400|    662128|      688272|\n",
      "|            09|    栃木県| 大正|         9|      1920|null|     1046479|    514255|      532224|\n",
      "|            10|    群馬県| 大正|         9|      1920|null|     1052610|    514106|      538504|\n",
      "|            11|    埼玉県| 大正|         9|      1920|null|     1319533|    641161|      678372|\n",
      "|            12|    千葉県| 大正|         9|      1920|null|     1336155|    656968|      679187|\n",
      "|            13|    東京都| 大正|         9|      1920|null|     3699428|   1952989|     1746439|\n",
      "|            14|  神奈川県| 大正|         9|      1920|null|     1323390|    689751|      633639|\n",
      "|            15|    新潟県| 大正|         9|      1920|null|     1776474|    871532|      904942|\n",
      "|            16|    富山県| 大正|         9|      1920|null|      724276|    354775|      369501|\n",
      "|            17|    石川県| 大正|         9|      1920|null|      747360|    364375|      382985|\n",
      "|            18|    福井県| 大正|         9|      1920|null|      599155|    293181|      305974|\n",
      "+--------------+----------+-----+----------+----------+----+------------+----------+------------+\n",
      "only showing top 20 rows\n",
      "\n"
     ]
    }
   ],
   "source": [
    "#日本語のカラム名をローマ字へ変換\n",
    "from pyspark.sql.types import StructType,StructField,StringType\n",
    "from pyspark.sql.functions import col\n",
    "\n",
    "struct = StructType([\n",
    "    StructField(\"code\",StringType(),False),\n",
    "    StructField(\"kenmei\",StringType(),False),\n",
    "    StructField(\"gengo\",StringType(),False),\n",
    "    StructField(\"wareki\",StringType(),False),\n",
    "    StructField(\"seireki\",StringType(),False),\n",
    "    StructField(\"chu\",StringType(),False),\n",
    "    StructField(\"sokei\",StringType(),False),\n",
    "    StructField(\"jinko_male\",StringType(),False),\n",
    "    StructField(\"jinko_female\",StringType(),False)\n",
    "])\n",
    "\n",
    "df = spark.read.option(\"multiLine\",\"true\").option(\"encoding\",\"SJIS\") \\\n",
    ".csv(\"/Users/isomasaki/pyspark_batch/dataset/jinko.csv\",header=False,sep=\",\",inferSchema=False,schema=struct)\n",
    "df.show()"
   ]
  },
  {
   "cell_type": "code",
   "execution_count": 17,
   "metadata": {},
   "outputs": [
    {
     "name": "stdout",
     "output_type": "stream",
     "text": [
      "+----+----------------------+-----+------+-------+----+---------+----------+------------+\n",
      "|code|                kenmei|gengo|wareki|seireki| chu|    sokei|jinko_male|jinko_female|\n",
      "+----+----------------------+-----+------+-------+----+---------+----------+------------+\n",
      "|  00|                  全国| 平成|     2|   1990|null|123611167|  60696724|    62914443|\n",
      "|  0A|          人口集中地区| 平成|     2|   1990|null| 78152452|  38564229|    39588223|\n",
      "|  0B|人口集中地区以外の地区| 平成|     2|   1990|null| 45458715|  22132495|    23326220|\n",
      "|  01|                北海道| 平成|     2|   1990|null|  5643647|   2722988|     2920659|\n",
      "|  02|                青森県| 平成|     2|   1990|null|  1482873|    704758|      778115|\n",
      "|  03|                岩手県| 平成|     2|   1990|null|  1416928|    680197|      736731|\n",
      "|  04|                宮城県| 平成|     2|   1990|null|  2248558|   1105103|     1143455|\n",
      "|  05|                秋田県| 平成|     2|   1990|null|  1227478|    584678|      642800|\n",
      "|  06|                山形県| 平成|     2|   1990|null|  1258390|    607041|      651349|\n",
      "|  07|                福島県| 平成|     2|   1990|null|  2104058|   1024354|     1079704|\n",
      "|  08|                茨城県| 平成|     2|   1990|null|  2845382|   1419117|     1426265|\n",
      "|  09|                栃木県| 平成|     2|   1990|null|  1935168|    962571|      972597|\n",
      "|  10|                群馬県| 平成|     2|   1990|null|  1966265|    971704|      994561|\n",
      "|  11|                埼玉県| 平成|     2|   1990|null|  6405319|   3245868|     3159451|\n",
      "|  12|                千葉県| 平成|     2|   1990|null|  5555429|   2802774|     2752655|\n",
      "|  13|                東京都| 平成|     2|   1990|null| 11855563|   5969773|     5885790|\n",
      "|  14|              神奈川県| 平成|     2|   1990|null|  7980391|   4098147|     3882244|\n",
      "|  15|                新潟県| 平成|     2|   1990|null|  2474583|   1200376|     1274207|\n",
      "|  16|                富山県| 平成|     2|   1990|null|  1120161|    538640|      581521|\n",
      "|  17|                石川県| 平成|     2|   1990|null|  1164628|    562684|      601944|\n",
      "+----+----------------------+-----+------+-------+----+---------+----------+------------+\n",
      "only showing top 20 rows\n",
      "\n"
     ]
    }
   ],
   "source": [
    "df.where(df.gengo == \"平成\").show()\n"
   ]
  },
  {
   "cell_type": "code",
   "execution_count": 18,
   "metadata": {},
   "outputs": [
    {
     "name": "stdout",
     "output_type": "stream",
     "text": [
      "+----------------------+--------------------+--------------------+\n",
      "|                kenmei|            male_avg|          female_avg|\n",
      "+----------------------+--------------------+--------------------+\n",
      "|人口集中地区以外の地区|2.0976203166666668E7|2.2272045166666668E7|\n",
      "|                佐賀県|            408192.5|            456442.5|\n",
      "|                栃木県|   987741.8333333334|            999415.5|\n",
      "|                京都府|  1268325.3333333333|  1360099.3333333333|\n",
      "|                香川県|   485871.8333333333|   523763.6666666667|\n",
      "|                愛媛県|   692188.3333333334|   774376.1666666666|\n",
      "|                秋田県|   542928.3333333334|            604578.5|\n",
      "|                広島県|           1387308.5|  1478006.8333333333|\n",
      "|                宮崎県|            542386.5|            608793.0|\n",
      "|              鹿児島県|            818506.0|            929134.0|\n",
      "|                埼玉県|  3492880.3333333335|  3443447.8333333335|\n",
      "|                三重県|            893167.5|   944959.6666666666|\n",
      "|                島根県|            356034.5|   388621.6666666667|\n",
      "|                徳島県|   383399.1666666667|            423152.0|\n",
      "|                岐阜県|  1009389.1666666666|  1073025.1666666667|\n",
      "|                新潟県|           1175463.5|  1249345.3333333333|\n",
      "|                山形県|            583603.5|   627811.6666666666|\n",
      "|              神奈川県|           4360756.0|           4252978.5|\n",
      "|                群馬県|   986385.1666666666|  1013610.6666666666|\n",
      "|                岩手県|   659592.6666666666|   714973.1666666666|\n",
      "+----------------------+--------------------+--------------------+\n",
      "only showing top 20 rows\n",
      "\n"
     ]
    }
   ],
   "source": [
    "import pyspark.sql.functions as sf\n",
    "df.where(df.gengo == \"平成\").groupBy(\"kenmei\")\\\n",
    "    .agg(sf.avg(\"jinko_male\").alias(\"male_avg\"),sf.avg(\"jinko_female\").alias(\"female_avg\")).show() "
   ]
  },
  {
   "cell_type": "code",
   "execution_count": 19,
   "metadata": {},
   "outputs": [],
   "source": [
    "df_after_t = df.where(df.gengo == \"平成\").groupBy(\"kenmei\")\\\n",
    "    .agg(sf.avg(\"jinko_male\").alias(\"male_avg\"),sf.avg(\"jinko_female\").alias(\"jinko_female_avg\"))\\\n",
    "        .filter(df.kenmei != \"人口集中地区以外の地区\").sort(\"male_avg\")"
   ]
  },
  {
   "cell_type": "code",
   "execution_count": 20,
   "metadata": {},
   "outputs": [
    {
     "name": "stdout",
     "output_type": "stream",
     "text": [
      "+--------+-----------------+-----------------+\n",
      "|  kenmei|         male_avg| jinko_female_avg|\n",
      "+--------+-----------------+-----------------+\n",
      "|  鳥取県|287885.3333333333|314291.3333333333|\n",
      "|  島根県|         356034.5|388621.6666666667|\n",
      "|  高知県|372268.1666666667|         418517.0|\n",
      "|  徳島県|383399.1666666667|         423152.0|\n",
      "|  福井県|         395512.5|420182.6666666667|\n",
      "|  佐賀県|         408192.5|         456442.5|\n",
      "|  山梨県|425777.8333333333|441831.1666666667|\n",
      "|  香川県|485871.8333333333|523763.6666666667|\n",
      "|和歌山県|         490624.0|547112.3333333334|\n",
      "|  富山県|         532857.0|573049.8333333334|\n",
      "|  宮崎県|         542386.5|         608793.0|\n",
      "|  秋田県|542928.3333333334|         604578.5|\n",
      "|  石川県|         566064.0|         604518.5|\n",
      "|  大分県|571530.6666666666|638773.6666666666|\n",
      "|  山形県|         583603.5|627811.6666666666|\n",
      "|  沖縄県|         654622.0|679050.6666666666|\n",
      "|  岩手県|659592.6666666666|714973.1666666666|\n",
      "|  滋賀県|         662391.0|         680326.0|\n",
      "|  奈良県|671178.6666666666|734736.6666666666|\n",
      "|  青森県|675238.6666666666|751182.1666666666|\n",
      "+--------+-----------------+-----------------+\n",
      "only showing top 20 rows\n",
      "\n"
     ]
    }
   ],
   "source": [
    "df_after_t.show()"
   ]
  },
  {
   "cell_type": "code",
   "execution_count": 21,
   "metadata": {},
   "outputs": [
    {
     "name": "stderr",
     "output_type": "stream",
     "text": [
      "                                                                                \r"
     ]
    }
   ],
   "source": [
    "#カラムナーフォーマットへの変換\n",
    "df_after_t.write.mode(\"overwrite\").parquet(\"/Users/isomasaki/pyspark_batch/dataset/parquet\")\n"
   ]
  },
  {
   "cell_type": "code",
   "execution_count": 22,
   "metadata": {},
   "outputs": [
    {
     "name": "stdout",
     "output_type": "stream",
     "text": [
      "/Users/isomasaki/.zshenv:4: command not found: goenv\n",
      "total 8\n",
      "-rw-r--r--  1 isomasaki  staff     0 Jul 21 09:19 _SUCCESS\n",
      "-rw-r--r--  1 isomasaki  staff  2083 Jul 21 09:19 part-00000-1f96165f-5412-4cc1-87e3-4200f6fe7bfb-c000.snappy.parquet\n"
     ]
    }
   ],
   "source": [
    "!ls -l /Users/isomasaki/pyspark_batch/dataset/parquet"
   ]
  },
  {
   "cell_type": "code",
   "execution_count": 23,
   "metadata": {},
   "outputs": [],
   "source": [
    "#スモールファイル問題に対処するためにファイルをまとめる(ノードの数)\n",
    "df_after_t.repartition(1).write.mode(\"overwrite\").parquet(\"/Users/isomasaki/pyspark_batch/dataset/parquet\")"
   ]
  },
  {
   "cell_type": "code",
   "execution_count": 24,
   "metadata": {},
   "outputs": [
    {
     "name": "stdout",
     "output_type": "stream",
     "text": [
      "/Users/isomasaki/.zshenv:4: command not found: goenv\n",
      "total 8\n",
      "-rw-r--r--  1 isomasaki  staff     0 Jul 21 09:19 _SUCCESS\n",
      "-rw-r--r--  1 isomasaki  staff  2083 Jul 21 09:19 part-00000-e4f5624d-8fa8-4c24-b8ae-1f49d59da26f-c000.snappy.parquet\n"
     ]
    }
   ],
   "source": [
    "!ls -l /Users/isomasaki/pyspark_batch/dataset/parquet"
   ]
  },
  {
   "cell_type": "code",
   "execution_count": 25,
   "metadata": {},
   "outputs": [
    {
     "name": "stderr",
     "output_type": "stream",
     "text": [
      "                                                                                \r"
     ]
    }
   ],
   "source": [
    "df_after_t.repartition(1).write.partitionBy(\"kenmei\").mode(\"overwrite\").parquet(\"/Users/isomasaki/pyspark_batch/dataset/parquet\")"
   ]
  },
  {
   "cell_type": "code",
   "execution_count": 26,
   "metadata": {},
   "outputs": [
    {
     "name": "stdout",
     "output_type": "stream",
     "text": [
      "/Users/isomasaki/.zshenv:4: command not found: goenv\n",
      "total 0\n",
      "-rw-r--r--  1 isomasaki  staff    0 Jul 21 09:19 _SUCCESS\n",
      "drwxr-xr-x  4 isomasaki  staff  128 Jul 21 09:19 \u001b[34mkenmei=三重県\u001b[m\u001b[m\n",
      "drwxr-xr-x  4 isomasaki  staff  128 Jul 21 09:19 \u001b[34mkenmei=京都府\u001b[m\u001b[m\n",
      "drwxr-xr-x  4 isomasaki  staff  128 Jul 21 09:19 \u001b[34mkenmei=人口集中地区\u001b[m\u001b[m\n",
      "drwxr-xr-x  4 isomasaki  staff  128 Jul 21 09:19 \u001b[34mkenmei=佐賀県\u001b[m\u001b[m\n",
      "drwxr-xr-x  4 isomasaki  staff  128 Jul 21 09:19 \u001b[34mkenmei=全国\u001b[m\u001b[m\n",
      "drwxr-xr-x  4 isomasaki  staff  128 Jul 21 09:19 \u001b[34mkenmei=兵庫県\u001b[m\u001b[m\n",
      "drwxr-xr-x  4 isomasaki  staff  128 Jul 21 09:19 \u001b[34mkenmei=北海道\u001b[m\u001b[m\n",
      "drwxr-xr-x  4 isomasaki  staff  128 Jul 21 09:19 \u001b[34mkenmei=千葉県\u001b[m\u001b[m\n",
      "drwxr-xr-x  4 isomasaki  staff  128 Jul 21 09:19 \u001b[34mkenmei=和歌山県\u001b[m\u001b[m\n",
      "drwxr-xr-x  4 isomasaki  staff  128 Jul 21 09:19 \u001b[34mkenmei=埼玉県\u001b[m\u001b[m\n",
      "drwxr-xr-x  4 isomasaki  staff  128 Jul 21 09:19 \u001b[34mkenmei=大分県\u001b[m\u001b[m\n",
      "drwxr-xr-x  4 isomasaki  staff  128 Jul 21 09:19 \u001b[34mkenmei=大阪府\u001b[m\u001b[m\n",
      "drwxr-xr-x  4 isomasaki  staff  128 Jul 21 09:19 \u001b[34mkenmei=奈良県\u001b[m\u001b[m\n",
      "drwxr-xr-x  4 isomasaki  staff  128 Jul 21 09:19 \u001b[34mkenmei=宮城県\u001b[m\u001b[m\n",
      "drwxr-xr-x  4 isomasaki  staff  128 Jul 21 09:19 \u001b[34mkenmei=宮崎県\u001b[m\u001b[m\n",
      "drwxr-xr-x  4 isomasaki  staff  128 Jul 21 09:19 \u001b[34mkenmei=富山県\u001b[m\u001b[m\n",
      "drwxr-xr-x  4 isomasaki  staff  128 Jul 21 09:19 \u001b[34mkenmei=山口県\u001b[m\u001b[m\n",
      "drwxr-xr-x  4 isomasaki  staff  128 Jul 21 09:19 \u001b[34mkenmei=山形県\u001b[m\u001b[m\n",
      "drwxr-xr-x  4 isomasaki  staff  128 Jul 21 09:19 \u001b[34mkenmei=山梨県\u001b[m\u001b[m\n",
      "drwxr-xr-x  4 isomasaki  staff  128 Jul 21 09:19 \u001b[34mkenmei=岐阜県\u001b[m\u001b[m\n",
      "drwxr-xr-x  4 isomasaki  staff  128 Jul 21 09:19 \u001b[34mkenmei=岡山県\u001b[m\u001b[m\n",
      "drwxr-xr-x  4 isomasaki  staff  128 Jul 21 09:19 \u001b[34mkenmei=岩手県\u001b[m\u001b[m\n",
      "drwxr-xr-x  4 isomasaki  staff  128 Jul 21 09:19 \u001b[34mkenmei=島根県\u001b[m\u001b[m\n",
      "drwxr-xr-x  4 isomasaki  staff  128 Jul 21 09:19 \u001b[34mkenmei=広島県\u001b[m\u001b[m\n",
      "drwxr-xr-x  4 isomasaki  staff  128 Jul 21 09:19 \u001b[34mkenmei=徳島県\u001b[m\u001b[m\n",
      "drwxr-xr-x  4 isomasaki  staff  128 Jul 21 09:19 \u001b[34mkenmei=愛媛県\u001b[m\u001b[m\n",
      "drwxr-xr-x  4 isomasaki  staff  128 Jul 21 09:19 \u001b[34mkenmei=愛知県\u001b[m\u001b[m\n",
      "drwxr-xr-x  4 isomasaki  staff  128 Jul 21 09:19 \u001b[34mkenmei=新潟県\u001b[m\u001b[m\n",
      "drwxr-xr-x  4 isomasaki  staff  128 Jul 21 09:19 \u001b[34mkenmei=東京都\u001b[m\u001b[m\n",
      "drwxr-xr-x  4 isomasaki  staff  128 Jul 21 09:19 \u001b[34mkenmei=栃木県\u001b[m\u001b[m\n",
      "drwxr-xr-x  4 isomasaki  staff  128 Jul 21 09:19 \u001b[34mkenmei=沖縄県\u001b[m\u001b[m\n",
      "drwxr-xr-x  4 isomasaki  staff  128 Jul 21 09:19 \u001b[34mkenmei=滋賀県\u001b[m\u001b[m\n",
      "drwxr-xr-x  4 isomasaki  staff  128 Jul 21 09:19 \u001b[34mkenmei=熊本県\u001b[m\u001b[m\n",
      "drwxr-xr-x  4 isomasaki  staff  128 Jul 21 09:19 \u001b[34mkenmei=石川県\u001b[m\u001b[m\n",
      "drwxr-xr-x  4 isomasaki  staff  128 Jul 21 09:19 \u001b[34mkenmei=神奈川県\u001b[m\u001b[m\n",
      "drwxr-xr-x  4 isomasaki  staff  128 Jul 21 09:19 \u001b[34mkenmei=福井県\u001b[m\u001b[m\n",
      "drwxr-xr-x  4 isomasaki  staff  128 Jul 21 09:19 \u001b[34mkenmei=福岡県\u001b[m\u001b[m\n",
      "drwxr-xr-x  4 isomasaki  staff  128 Jul 21 09:19 \u001b[34mkenmei=福島県\u001b[m\u001b[m\n",
      "drwxr-xr-x  4 isomasaki  staff  128 Jul 21 09:19 \u001b[34mkenmei=秋田県\u001b[m\u001b[m\n",
      "drwxr-xr-x  4 isomasaki  staff  128 Jul 21 09:19 \u001b[34mkenmei=群馬県\u001b[m\u001b[m\n",
      "drwxr-xr-x  4 isomasaki  staff  128 Jul 21 09:19 \u001b[34mkenmei=茨城県\u001b[m\u001b[m\n",
      "drwxr-xr-x  4 isomasaki  staff  128 Jul 21 09:19 \u001b[34mkenmei=長崎県\u001b[m\u001b[m\n",
      "drwxr-xr-x  4 isomasaki  staff  128 Jul 21 09:19 \u001b[34mkenmei=長野県\u001b[m\u001b[m\n",
      "drwxr-xr-x  4 isomasaki  staff  128 Jul 21 09:19 \u001b[34mkenmei=青森県\u001b[m\u001b[m\n",
      "drwxr-xr-x  4 isomasaki  staff  128 Jul 21 09:19 \u001b[34mkenmei=静岡県\u001b[m\u001b[m\n",
      "drwxr-xr-x  4 isomasaki  staff  128 Jul 21 09:19 \u001b[34mkenmei=香川県\u001b[m\u001b[m\n",
      "drwxr-xr-x  4 isomasaki  staff  128 Jul 21 09:19 \u001b[34mkenmei=高知県\u001b[m\u001b[m\n",
      "drwxr-xr-x  4 isomasaki  staff  128 Jul 21 09:19 \u001b[34mkenmei=鳥取県\u001b[m\u001b[m\n",
      "drwxr-xr-x  4 isomasaki  staff  128 Jul 21 09:19 \u001b[34mkenmei=鹿児島県\u001b[m\u001b[m\n"
     ]
    }
   ],
   "source": [
    "!ls -l /Users/isomasaki/pyspark_batch/dataset/parquet"
   ]
  },
  {
   "cell_type": "code",
   "execution_count": 27,
   "metadata": {},
   "outputs": [
    {
     "name": "stdout",
     "output_type": "stream",
     "text": [
      "/Users/isomasaki/.zshenv:4: command not found: goenv\n",
      "total 8\n",
      "-rw-r--r--  1 isomasaki  staff  786 Jul 21 09:19 part-00000-af44ab2c-c3e8-4e15-b63d-6ed105633941.c000.snappy.parquet\n"
     ]
    }
   ],
   "source": [
    "!ls -l /Users/isomasaki/pyspark_batch/dataset/parquet/kenmei=香川県"
   ]
  },
  {
   "cell_type": "code",
   "execution_count": 28,
   "metadata": {},
   "outputs": [
    {
     "name": "stdout",
     "output_type": "stream",
     "text": [
      "+-----------------+-----------------+\n",
      "|         male_avg| jinko_female_avg|\n",
      "+-----------------+-----------------+\n",
      "|485871.8333333333|523763.6666666667|\n",
      "+-----------------+-----------------+\n",
      "\n"
     ]
    }
   ],
   "source": [
    "#香川県のみのデータ\n",
    "parquet_df = spark.read.parquet(\"/Users/isomasaki/pyspark_batch/dataset/parquet/kenmei=香川県\")\n",
    "parquet_df.show()"
   ]
  },
  {
   "cell_type": "code",
   "execution_count": 29,
   "metadata": {},
   "outputs": [
    {
     "data": {
      "text/plain": [
       "DataFrame[]"
      ]
     },
     "execution_count": 29,
     "metadata": {},
     "output_type": "execute_result"
    }
   ],
   "source": [
    "spark.sql(\n",
    "    \"\"\"\n",
    "    CREATE EXTERNAL TABLE IF NOT EXISTS default.jinko_avg (male_avg double,jinko_female_avg double)\n",
    "    PARTITIONED BY (kenmei String)\n",
    "    STORED AS PARQUET\n",
    "    LOCATION '/Users/isomasaki/pyspark_batch/dataset/parquet/';\n",
    "    \"\"\"\n",
    ")"
   ]
  },
  {
   "cell_type": "code",
   "execution_count": 30,
   "metadata": {},
   "outputs": [
    {
     "name": "stdout",
     "output_type": "stream",
     "text": [
      "+---------+---------+-----------+\n",
      "|namespace|tableName|isTemporary|\n",
      "+---------+---------+-----------+\n",
      "|  default|jinko_avg|      false|\n",
      "+---------+---------+-----------+\n",
      "\n"
     ]
    }
   ],
   "source": [
    "spark.sql(\"show tables\").show()"
   ]
  },
  {
   "cell_type": "code",
   "execution_count": 31,
   "metadata": {},
   "outputs": [
    {
     "name": "stdout",
     "output_type": "stream",
     "text": [
      "22/07/21 09:19:40 WARN SessionState: METASTORE_FILTER_HOOK will be ignored, since hive.security.authorization.manager is set to instance of HiveAuthorizerFactory.\n",
      "22/07/21 09:19:40 WARN HiveConf: HiveConf of name hive.internal.ss.authz.settings.applied.marker does not exist\n",
      "22/07/21 09:19:40 WARN HiveConf: HiveConf of name hive.stats.jdbc.timeout does not exist\n",
      "22/07/21 09:19:40 WARN HiveConf: HiveConf of name hive.stats.retries.wait does not exist\n",
      "+--------------------+--------------------+------------+\n",
      "|            male_avg|    jinko_female_avg|      kenmei|\n",
      "+--------------------+--------------------+------------+\n",
      "|            893167.5|   944959.6666666666|      三重県|\n",
      "|  1268325.3333333333|  1360099.3333333333|      京都府|\n",
      "|4.0840519833333336E7|4.2415789666666664E7|人口集中地区|\n",
      "|         6.1816723E7|6.4687834833333336E7|        全国|\n",
      "|           2650310.5|           2861527.0|      兵庫県|\n",
      "|  2665781.3333333335|  2923371.8333333335|      北海道|\n",
      "|           2987847.0|           2974638.5|      千葉県|\n",
      "|            490624.0|   547112.3333333334|    和歌山県|\n",
      "|  3492880.3333333335|  3443447.8333333335|      埼玉県|\n",
      "|   571530.6666666666|   638773.6666666666|      大分県|\n",
      "|   4292675.833333333|           4517115.0|      大阪府|\n",
      "|   671178.6666666666|   734736.6666666666|      奈良県|\n",
      "|           1139561.5|           1191255.0|      宮城県|\n",
      "|            542386.5|            608793.0|      宮崎県|\n",
      "|            532857.0|   573049.8333333334|      富山県|\n",
      "|   709497.8333333334|            791301.5|      山口県|\n",
      "|            583603.5|   627811.6666666666|      山形県|\n",
      "|   425777.8333333333|   441831.1666666667|      山梨県|\n",
      "|  1009389.1666666666|  1073025.1666666667|      岐阜県|\n",
      "|   659592.6666666666|   714973.1666666666|      岩手県|\n",
      "+--------------------+--------------------+------------+\n",
      "only showing top 20 rows\n",
      "\n"
     ]
    }
   ],
   "source": [
    "df_result = spark.sql(\"select * from default.jinko_avg\")\n",
    "df_result.show()\n",
    "#partitionつきのテーブルでは、最初はテーブルの中身を確認できない"
   ]
  },
  {
   "cell_type": "code",
   "execution_count": 32,
   "metadata": {},
   "outputs": [
    {
     "data": {
      "text/plain": [
       "DataFrame[]"
      ]
     },
     "execution_count": 32,
     "metadata": {},
     "output_type": "execute_result"
    }
   ],
   "source": [
    "#メタデータにパーティションを登録\n",
    "spark.sql(\"msck repair table jinko_avg\")"
   ]
  },
  {
   "cell_type": "code",
   "execution_count": 33,
   "metadata": {},
   "outputs": [
    {
     "name": "stdout",
     "output_type": "stream",
     "text": [
      "+--------------------+--------------------+------------+\n",
      "|            male_avg|    jinko_female_avg|      kenmei|\n",
      "+--------------------+--------------------+------------+\n",
      "|            893167.5|   944959.6666666666|      三重県|\n",
      "|  1268325.3333333333|  1360099.3333333333|      京都府|\n",
      "|4.0840519833333336E7|4.2415789666666664E7|人口集中地区|\n",
      "|         6.1816723E7|6.4687834833333336E7|        全国|\n",
      "|           2650310.5|           2861527.0|      兵庫県|\n",
      "|  2665781.3333333335|  2923371.8333333335|      北海道|\n",
      "|           2987847.0|           2974638.5|      千葉県|\n",
      "|            490624.0|   547112.3333333334|    和歌山県|\n",
      "|  3492880.3333333335|  3443447.8333333335|      埼玉県|\n",
      "|   571530.6666666666|   638773.6666666666|      大分県|\n",
      "|   4292675.833333333|           4517115.0|      大阪府|\n",
      "|   671178.6666666666|   734736.6666666666|      奈良県|\n",
      "|           1139561.5|           1191255.0|      宮城県|\n",
      "|            542386.5|            608793.0|      宮崎県|\n",
      "|            532857.0|   573049.8333333334|      富山県|\n",
      "|   709497.8333333334|            791301.5|      山口県|\n",
      "|            583603.5|   627811.6666666666|      山形県|\n",
      "|   425777.8333333333|   441831.1666666667|      山梨県|\n",
      "|  1009389.1666666666|  1073025.1666666667|      岐阜県|\n",
      "|   659592.6666666666|   714973.1666666666|      岩手県|\n",
      "+--------------------+--------------------+------------+\n",
      "only showing top 20 rows\n",
      "\n"
     ]
    }
   ],
   "source": [
    "df_result = spark.sql(\"select * from default.jinko_avg\")\n",
    "df_result.show()\n",
    "#partitionつきのテーブルでは、最初はテーブルの中身を確認できない"
   ]
  },
  {
   "cell_type": "code",
   "execution_count": 34,
   "metadata": {},
   "outputs": [
    {
     "name": "stdout",
     "output_type": "stream",
     "text": [
      "22/07/21 09:19:44 WARN SparkSession: Using an existing Spark session; only runtime SQL configurations will take effect.\n"
     ]
    }
   ],
   "source": [
    "from pyspark import SparkConf\n",
    "from pyspark import SparkContext\n",
    "from pyspark.sql import SparkSession\n",
    "\n",
    "spark = SparkSession.builder \\\n",
    "    .appName(\"chaper2\")\\\n",
    "    .config(\"hive.exec.dynamic.partition\",\"true\")\\\n",
    "    .config(\"hive.exec.dynamic.partition.mode\",\"nonstrict\")\\\n",
    "    .config(\"spark.sql.session.timeZone\",\"JST\")\\\n",
    "    .config(\"spark.ui.enabled\",\"true\")\\\n",
    "    .enableHiveSupport()\\\n",
    "    .getOrCreate()\n",
    "    "
   ]
  },
  {
   "cell_type": "code",
   "execution_count": 35,
   "metadata": {},
   "outputs": [],
   "source": [
    "#仮想テーブルの作成\n",
    "df.createOrReplaceTempView(\"jinko\")"
   ]
  },
  {
   "cell_type": "code",
   "execution_count": 36,
   "metadata": {},
   "outputs": [
    {
     "name": "stdout",
     "output_type": "stream",
     "text": [
      "+--------------+----------+-----+----------+----------+----+------------+----------+------------+\n",
      "|          code|    kenmei|gengo|    wareki|   seireki| chu|       sokei|jinko_male|jinko_female|\n",
      "+--------------+----------+-----+----------+----------+----+------------+----------+------------+\n",
      "|都道府県コード|都道府県名| 元号|和暦（年）|西暦（年）|  注|人口（総数）|人口（男）|  人口（女）|\n",
      "|            00|      全国| 大正|         9|      1920|null|    55963053|  28044185|    27918868|\n",
      "|            01|    北海道| 大正|         9|      1920|null|     2359183|   1244322|     1114861|\n",
      "|            02|    青森県| 大正|         9|      1920|null|      756454|    381293|      375161|\n",
      "|            03|    岩手県| 大正|         9|      1920|null|      845540|    421069|      424471|\n",
      "|            04|    宮城県| 大正|         9|      1920|null|      961768|    485309|      476459|\n",
      "|            05|    秋田県| 大正|         9|      1920|null|      898537|    453682|      444855|\n",
      "|            06|    山形県| 大正|         9|      1920|null|      968925|    478328|      490597|\n",
      "|            07|    福島県| 大正|         9|      1920|null|     1362750|    673525|      689225|\n",
      "|            08|    茨城県| 大正|         9|      1920|null|     1350400|    662128|      688272|\n",
      "|            09|    栃木県| 大正|         9|      1920|null|     1046479|    514255|      532224|\n",
      "|            10|    群馬県| 大正|         9|      1920|null|     1052610|    514106|      538504|\n",
      "|            11|    埼玉県| 大正|         9|      1920|null|     1319533|    641161|      678372|\n",
      "|            12|    千葉県| 大正|         9|      1920|null|     1336155|    656968|      679187|\n",
      "|            13|    東京都| 大正|         9|      1920|null|     3699428|   1952989|     1746439|\n",
      "|            14|  神奈川県| 大正|         9|      1920|null|     1323390|    689751|      633639|\n",
      "|            15|    新潟県| 大正|         9|      1920|null|     1776474|    871532|      904942|\n",
      "|            16|    富山県| 大正|         9|      1920|null|      724276|    354775|      369501|\n",
      "|            17|    石川県| 大正|         9|      1920|null|      747360|    364375|      382985|\n",
      "|            18|    福井県| 大正|         9|      1920|null|      599155|    293181|      305974|\n",
      "+--------------+----------+-----+----------+----------+----+------------+----------+------------+\n",
      "only showing top 20 rows\n",
      "\n"
     ]
    }
   ],
   "source": [
    "#sparkSQLの実行\n",
    "\n",
    "spark.sql(\"select * from jinko\").show()"
   ]
  },
  {
   "cell_type": "code",
   "execution_count": 37,
   "metadata": {},
   "outputs": [
    {
     "name": "stdout",
     "output_type": "stream",
     "text": [
      "+--------+-----------------+-----------------+\n",
      "|  kenmei|         male_avg|       female_avg|\n",
      "+--------+-----------------+-----------------+\n",
      "|  鳥取県|287885.3333333333|314291.3333333333|\n",
      "|  島根県|         356034.5|388621.6666666667|\n",
      "|  高知県|372268.1666666667|         418517.0|\n",
      "|  徳島県|383399.1666666667|         423152.0|\n",
      "|  福井県|         395512.5|420182.6666666667|\n",
      "|  佐賀県|         408192.5|         456442.5|\n",
      "|  山梨県|425777.8333333333|441831.1666666667|\n",
      "|  香川県|485871.8333333333|523763.6666666667|\n",
      "|和歌山県|         490624.0|547112.3333333334|\n",
      "|  富山県|         532857.0|573049.8333333334|\n",
      "|  宮崎県|         542386.5|         608793.0|\n",
      "|  秋田県|542928.3333333334|         604578.5|\n",
      "|  石川県|         566064.0|         604518.5|\n",
      "|  大分県|571530.6666666666|638773.6666666666|\n",
      "|  山形県|         583603.5|627811.6666666666|\n",
      "|  沖縄県|         654622.0|679050.6666666666|\n",
      "|  岩手県|659592.6666666666|714973.1666666666|\n",
      "|  滋賀県|         662391.0|         680326.0|\n",
      "|  奈良県|671178.6666666666|734736.6666666666|\n",
      "|  青森県|675238.6666666666|751182.1666666666|\n",
      "+--------+-----------------+-----------------+\n",
      "only showing top 20 rows\n",
      "\n"
     ]
    }
   ],
   "source": [
    "df_after_t_by_sql = spark.sql(\n",
    "    \"\"\"\n",
    "    select \n",
    "      kenmei,\n",
    "      avg(jinko_male) as male_avg,\n",
    "      avg(jinko_female) as female_avg\n",
    "    from \n",
    "      jinko\n",
    "    where\n",
    "      gengo = \"平成\"\n",
    "      and kenmei != \"人口集中地区以外の地区\"\n",
    "    group by kenmei\n",
    "    order by male_avg\n",
    "    \"\"\"\n",
    ")\n",
    "\n",
    "df_after_t_by_sql.show()"
   ]
  },
  {
   "cell_type": "code",
   "execution_count": 38,
   "metadata": {},
   "outputs": [
    {
     "name": "stderr",
     "output_type": "stream",
     "text": [
      "                                                                                \r"
     ]
    },
    {
     "data": {
      "text/plain": [
       "DataFrame[]"
      ]
     },
     "execution_count": 38,
     "metadata": {},
     "output_type": "execute_result"
    }
   ],
   "source": [
    "spark.sql(\n",
    "    \"\"\"\n",
    "   insert overwrite table jinko_avg partition(kenmei)\n",
    "   select \n",
    "      avg(jinko_male) as male_avg,\n",
    "      avg(jinko_female),kenmei as female_avg\n",
    "    from \n",
    "      jinko\n",
    "    where\n",
    "      gengo = \"平成\"\n",
    "      and kenmei != \"人口集中地区以外の地区\"\n",
    "    group by kenmei\n",
    "    order by male_avg\n",
    "    \"\"\"\n",
    ")"
   ]
  },
  {
   "cell_type": "code",
   "execution_count": 39,
   "metadata": {},
   "outputs": [
    {
     "name": "stdout",
     "output_type": "stream",
     "text": [
      "+--------------------+--------------------+------------+\n",
      "|            male_avg|    jinko_female_avg|      kenmei|\n",
      "+--------------------+--------------------+------------+\n",
      "|            893167.5|   944959.6666666666|      三重県|\n",
      "|  1268325.3333333333|  1360099.3333333333|      京都府|\n",
      "|4.0840519833333336E7|4.2415789666666664E7|人口集中地区|\n",
      "|         6.1816723E7|6.4687834833333336E7|        全国|\n",
      "|           2650310.5|           2861527.0|      兵庫県|\n",
      "|  2665781.3333333335|  2923371.8333333335|      北海道|\n",
      "|           2987847.0|           2974638.5|      千葉県|\n",
      "|            490624.0|   547112.3333333334|    和歌山県|\n",
      "|  3492880.3333333335|  3443447.8333333335|      埼玉県|\n",
      "|   571530.6666666666|   638773.6666666666|      大分県|\n",
      "|   4292675.833333333|           4517115.0|      大阪府|\n",
      "|   671178.6666666666|   734736.6666666666|      奈良県|\n",
      "|           1139561.5|           1191255.0|      宮城県|\n",
      "|            542386.5|            608793.0|      宮崎県|\n",
      "|            532857.0|   573049.8333333334|      富山県|\n",
      "|   709497.8333333334|            791301.5|      山口県|\n",
      "|            583603.5|   627811.6666666666|      山形県|\n",
      "|   425777.8333333333|   441831.1666666667|      山梨県|\n",
      "|  1009389.1666666666|  1073025.1666666667|      岐阜県|\n",
      "|   659592.6666666666|   714973.1666666666|      岩手県|\n",
      "+--------------------+--------------------+------------+\n",
      "only showing top 20 rows\n",
      "\n"
     ]
    }
   ],
   "source": [
    "spark.sql(\"select * from jinko_avg\").show()"
   ]
  },
  {
   "cell_type": "code",
   "execution_count": 40,
   "metadata": {},
   "outputs": [
    {
     "name": "stderr",
     "output_type": "stream",
     "text": [
      "                                                                                \r"
     ]
    }
   ],
   "source": [
    "#hint文でスモールファイル問題の解決 /** repartition(1) */ 忘れずに\n",
    "#df2 でキャッシュ\n",
    "df2 = spark.sql(\n",
    "   \"\"\"\n",
    "   insert overwrite table jinko_avg partition(kenmei)\n",
    "   select /** repartition(1) */\n",
    "      avg(jinko_male) as male_avg,\n",
    "      avg(jinko_female),kenmei as female_avg\n",
    "    from \n",
    "      jinko\n",
    "    where\n",
    "      gengo = \"平成\"\n",
    "      and kenmei != \"人口集中地区以外の地区\"\n",
    "    group by kenmei\n",
    "    order by male_avg\n",
    "    \"\"\"\n",
    ")"
   ]
  },
  {
   "cell_type": "code",
   "execution_count": 41,
   "metadata": {},
   "outputs": [
    {
     "name": "stdout",
     "output_type": "stream",
     "text": [
      "+--------------------+--------------------+------------+\n",
      "|            male_avg|    jinko_female_avg|      kenmei|\n",
      "+--------------------+--------------------+------------+\n",
      "|            893167.5|   944959.6666666666|      三重県|\n",
      "|  1268325.3333333333|  1360099.3333333333|      京都府|\n",
      "|4.0840519833333336E7|4.2415789666666664E7|人口集中地区|\n",
      "|         6.1816723E7|6.4687834833333336E7|        全国|\n",
      "|           2650310.5|           2861527.0|      兵庫県|\n",
      "|  2665781.3333333335|  2923371.8333333335|      北海道|\n",
      "|           2987847.0|           2974638.5|      千葉県|\n",
      "|            490624.0|   547112.3333333334|    和歌山県|\n",
      "|  3492880.3333333335|  3443447.8333333335|      埼玉県|\n",
      "|   571530.6666666666|   638773.6666666666|      大分県|\n",
      "|   4292675.833333333|           4517115.0|      大阪府|\n",
      "|   671178.6666666666|   734736.6666666666|      奈良県|\n",
      "|           1139561.5|           1191255.0|      宮城県|\n",
      "|            542386.5|            608793.0|      宮崎県|\n",
      "|            532857.0|   573049.8333333334|      富山県|\n",
      "|   709497.8333333334|            791301.5|      山口県|\n",
      "|            583603.5|   627811.6666666666|      山形県|\n",
      "|   425777.8333333333|   441831.1666666667|      山梨県|\n",
      "|  1009389.1666666666|  1073025.1666666667|      岐阜県|\n",
      "|   659592.6666666666|   714973.1666666666|      岩手県|\n",
      "+--------------------+--------------------+------------+\n",
      "only showing top 20 rows\n",
      "\n"
     ]
    }
   ],
   "source": [
    "#本番環境を想定したpyspark 昭和\n",
    "spark.sql(\"select * from jinko_avg\").show()"
   ]
  },
  {
   "cell_type": "code",
   "execution_count": null,
   "metadata": {},
   "outputs": [],
   "source": [
    "#localhost:4040から"
   ]
  },
  {
   "cell_type": "code",
   "execution_count": 43,
   "metadata": {},
   "outputs": [
    {
     "name": "stdout",
     "output_type": "stream",
     "text": [
      "22/07/21 09:36:12 WARN CacheManager: Asked to cache already cached data.\n"
     ]
    },
    {
     "data": {
      "text/plain": [
       "True"
      ]
     },
     "execution_count": 43,
     "metadata": {},
     "output_type": "execute_result"
    }
   ],
   "source": [
    "df2.cache()\n",
    "df2.is_cached"
   ]
  },
  {
   "cell_type": "code",
   "execution_count": 48,
   "metadata": {},
   "outputs": [
    {
     "data": {
      "text/plain": [
       "True"
      ]
     },
     "execution_count": 48,
     "metadata": {},
     "output_type": "execute_result"
    }
   ],
   "source": [
    "#テーブルをキャッシュ\n",
    "spark.catalog.cacheTable(\"jinko_avg\")\n",
    "spark.catalog.isCached(\"jinko_avg\")"
   ]
  }
 ],
 "metadata": {
  "kernelspec": {
   "display_name": "Python 3.9.1 64-bit ('3.9.1')",
   "language": "python",
   "name": "python3"
  },
  "language_info": {
   "codemirror_mode": {
    "name": "ipython",
    "version": 3
   },
   "file_extension": ".py",
   "mimetype": "text/x-python",
   "name": "python",
   "nbconvert_exporter": "python",
   "pygments_lexer": "ipython3",
   "version": "3.9.1"
  },
  "orig_nbformat": 4,
  "vscode": {
   "interpreter": {
    "hash": "cc7d8ad7bcba743a950284a9d2689718111e12ebf705e68eb2847164e6b44765"
   }
  }
 },
 "nbformat": 4,
 "nbformat_minor": 2
}
